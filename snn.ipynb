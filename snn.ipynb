{
 "cells": [
  {
   "cell_type": "markdown",
   "metadata": {},
   "source": [
    "## Siamese NN"
   ]
  },
  {
   "cell_type": "code",
   "execution_count": 3,
   "metadata": {},
   "outputs": [
    {
     "ename": "TypeError",
     "evalue": "Value after * must be an iterable, not float",
     "output_type": "error",
     "traceback": [
      "\u001b[0;31m---------------------------------------------------------------------------\u001b[0m",
      "\u001b[0;31mTypeError\u001b[0m                                 Traceback (most recent call last)",
      "Cell \u001b[0;32mIn[3], line 69\u001b[0m\n\u001b[1;32m     67\u001b[0m \u001b[38;5;28;01mif\u001b[39;00m \u001b[38;5;18m__name__\u001b[39m \u001b[38;5;241m==\u001b[39m \u001b[38;5;124m\"\u001b[39m\u001b[38;5;124m__main__\u001b[39m\u001b[38;5;124m\"\u001b[39m:\n\u001b[1;32m     68\u001b[0m     data \u001b[38;5;241m=\u001b[39m PrepareDataSNN()\n\u001b[0;32m---> 69\u001b[0m     data_a, data_b, labels \u001b[38;5;241m=\u001b[39m \u001b[43mdata\u001b[49m\u001b[38;5;241;43m.\u001b[39;49m\u001b[43mprocess\u001b[49m\u001b[43m(\u001b[49m\u001b[43m)\u001b[49m\n\u001b[1;32m     70\u001b[0m     train_siamese_network(data_a, data_b, labels)\n",
      "File \u001b[0;32m~/Escritorio/Code_Similarity/SNN/siamese_network_parse.py:101\u001b[0m, in \u001b[0;36mPrepareDataSNN.process\u001b[0;34m(self)\u001b[0m\n\u001b[1;32m     99\u001b[0m \u001b[38;5;28;01mdef\u001b[39;00m \u001b[38;5;21mprocess\u001b[39m(\u001b[38;5;28mself\u001b[39m): \n\u001b[1;32m    100\u001b[0m     \u001b[38;5;28mself\u001b[39m\u001b[38;5;241m.\u001b[39m_load_all_project()\n\u001b[0;32m--> 101\u001b[0m     \u001b[38;5;28;43mself\u001b[39;49m\u001b[38;5;241;43m.\u001b[39;49m\u001b[43m_generate_pairs\u001b[49m\u001b[43m(\u001b[49m\u001b[38;5;28;43mself\u001b[39;49m\u001b[38;5;241;43m.\u001b[39;49m\u001b[43mall_projects\u001b[49m\u001b[43m)\u001b[49m\n\u001b[1;32m    102\u001b[0m     \u001b[38;5;66;03m# Generar los pares de entrenamiento\u001b[39;00m\n\u001b[1;32m    103\u001b[0m     pairs \u001b[38;5;241m=\u001b[39m \u001b[38;5;28mself\u001b[39m\u001b[38;5;241m.\u001b[39m_generate_pairs(\u001b[38;5;28mself\u001b[39m\u001b[38;5;241m.\u001b[39mall_projects)\n",
      "File \u001b[0;32m~/Escritorio/Code_Similarity/SNN/siamese_network_parse.py:84\u001b[0m, in \u001b[0;36mPrepareDataSNN._generate_pairs\u001b[0;34m(self, projects)\u001b[0m\n\u001b[1;32m     81\u001b[0m pairs \u001b[38;5;241m=\u001b[39m []\n\u001b[1;32m     82\u001b[0m \u001b[38;5;28;01mfor\u001b[39;00m (proj1, proj2) \u001b[38;5;129;01min\u001b[39;00m itertools\u001b[38;5;241m.\u001b[39mcombinations(projects, \u001b[38;5;241m2\u001b[39m):\n\u001b[1;32m     83\u001b[0m     pair \u001b[38;5;241m=\u001b[39m {\n\u001b[0;32m---> 84\u001b[0m         \u001b[38;5;124m\"\u001b[39m\u001b[38;5;124mproject_1\u001b[39m\u001b[38;5;124m\"\u001b[39m: \u001b[38;5;28;43mself\u001b[39;49m\u001b[38;5;241;43m.\u001b[39;49m\u001b[43m_extract_features\u001b[49m\u001b[43m(\u001b[49m\u001b[43mproj1\u001b[49m\u001b[43m)\u001b[49m,\n\u001b[1;32m     85\u001b[0m         \u001b[38;5;124m\"\u001b[39m\u001b[38;5;124mproject_2\u001b[39m\u001b[38;5;124m\"\u001b[39m: \u001b[38;5;28mself\u001b[39m\u001b[38;5;241m.\u001b[39m_extract_features(proj2),\n\u001b[1;32m     86\u001b[0m         \u001b[38;5;124m\"\u001b[39m\u001b[38;5;124msimilarity_flag\u001b[39m\u001b[38;5;124m\"\u001b[39m: \u001b[38;5;241m1\u001b[39m \u001b[38;5;28;01mif\u001b[39;00m proj1[\u001b[38;5;124m\"\u001b[39m\u001b[38;5;124mlabel\u001b[39m\u001b[38;5;124m\"\u001b[39m] \u001b[38;5;241m==\u001b[39m \u001b[38;5;124mf\u001b[39m\u001b[38;5;124m\"\u001b[39m\u001b[38;5;124mcopy_of_\u001b[39m\u001b[38;5;132;01m{\u001b[39;00mproj2[\u001b[38;5;124m'\u001b[39m\u001b[38;5;124mproject_name\u001b[39m\u001b[38;5;124m'\u001b[39m]\u001b[38;5;132;01m}\u001b[39;00m\u001b[38;5;124m\"\u001b[39m \u001b[38;5;129;01mor\u001b[39;00m proj2[\u001b[38;5;124m\"\u001b[39m\u001b[38;5;124mlabel\u001b[39m\u001b[38;5;124m\"\u001b[39m] \u001b[38;5;241m==\u001b[39m \u001b[38;5;124mf\u001b[39m\u001b[38;5;124m\"\u001b[39m\u001b[38;5;124mcopy_of_\u001b[39m\u001b[38;5;132;01m{\u001b[39;00mproj1[\u001b[38;5;124m'\u001b[39m\u001b[38;5;124mproject_name\u001b[39m\u001b[38;5;124m'\u001b[39m]\u001b[38;5;132;01m}\u001b[39;00m\u001b[38;5;124m\"\u001b[39m \u001b[38;5;28;01melse\u001b[39;00m \u001b[38;5;241m0\u001b[39m\n\u001b[1;32m     87\u001b[0m     }\n\u001b[1;32m     88\u001b[0m     pairs\u001b[38;5;241m.\u001b[39mappend(pair)\n\u001b[1;32m     89\u001b[0m \u001b[38;5;28;01mreturn\u001b[39;00m pairs\n",
      "File \u001b[0;32m~/Escritorio/Code_Similarity/SNN/siamese_network_parse.py:18\u001b[0m, in \u001b[0;36mPrepareDataSNN._extract_features\u001b[0;34m(self, json_data)\u001b[0m\n\u001b[1;32m     17\u001b[0m \u001b[38;5;28;01mdef\u001b[39;00m \u001b[38;5;21m_extract_features\u001b[39m(\u001b[38;5;28mself\u001b[39m, json_data):\n\u001b[0;32m---> 18\u001b[0m     features \u001b[38;5;241m=\u001b[39m [\n\u001b[1;32m     19\u001b[0m         json_data[\u001b[38;5;124m\"\u001b[39m\u001b[38;5;124mtotal_nodes\u001b[39m\u001b[38;5;124m\"\u001b[39m],\n\u001b[1;32m     20\u001b[0m         json_data[\u001b[38;5;124m\"\u001b[39m\u001b[38;5;124mmax_depth\u001b[39m\u001b[38;5;124m\"\u001b[39m],\n\u001b[1;32m     21\u001b[0m         json_data[\u001b[38;5;124m\"\u001b[39m\u001b[38;5;124mnumber_of_variables\u001b[39m\u001b[38;5;124m\"\u001b[39m],\n\u001b[1;32m     22\u001b[0m         json_data[\u001b[38;5;124m\"\u001b[39m\u001b[38;5;124mnumber_of_constants\u001b[39m\u001b[38;5;124m\"\u001b[39m],\n\u001b[1;32m     23\u001b[0m         json_data[\u001b[38;5;124m\"\u001b[39m\u001b[38;5;124mout_variables\u001b[39m\u001b[38;5;124m\"\u001b[39m],\n\u001b[1;32m     24\u001b[0m         json_data[\u001b[38;5;124m\"\u001b[39m\u001b[38;5;124mref_params\u001b[39m\u001b[38;5;124m\"\u001b[39m],\n\u001b[1;32m     25\u001b[0m         json_data[\u001b[38;5;124m\"\u001b[39m\u001b[38;5;124mnumber_of_methods\u001b[39m\u001b[38;5;124m\"\u001b[39m],\n\u001b[1;32m     26\u001b[0m         json_data[\u001b[38;5;124m\"\u001b[39m\u001b[38;5;124mnumber_of_classes\u001b[39m\u001b[38;5;124m\"\u001b[39m],\n\u001b[1;32m     27\u001b[0m         json_data[\u001b[38;5;124m\"\u001b[39m\u001b[38;5;124mnumber_of_interfaces\u001b[39m\u001b[38;5;124m\"\u001b[39m],\n\u001b[1;32m     28\u001b[0m         json_data[\u001b[38;5;124m\"\u001b[39m\u001b[38;5;124mnumber_of_abstract_classes\u001b[39m\u001b[38;5;124m\"\u001b[39m],\n\u001b[1;32m     29\u001b[0m         json_data[\u001b[38;5;124m\"\u001b[39m\u001b[38;5;124mnumber_of_sealed_classes\u001b[39m\u001b[38;5;124m\"\u001b[39m],\n\u001b[1;32m     30\u001b[0m         json_data[\u001b[38;5;124m\"\u001b[39m\u001b[38;5;124mimport_statements\u001b[39m\u001b[38;5;124m\"\u001b[39m],\n\u001b[1;32m     31\u001b[0m         json_data[\u001b[38;5;124m\"\u001b[39m\u001b[38;5;124mnumber_of_try_blocks\u001b[39m\u001b[38;5;124m\"\u001b[39m],\n\u001b[1;32m     32\u001b[0m         json_data[\u001b[38;5;124m\"\u001b[39m\u001b[38;5;124mnumber_of_lists\u001b[39m\u001b[38;5;124m\"\u001b[39m],\n\u001b[1;32m     33\u001b[0m         json_data[\u001b[38;5;124m\"\u001b[39m\u001b[38;5;124mnumber_of_dictionaries\u001b[39m\u001b[38;5;124m\"\u001b[39m],\n\u001b[1;32m     34\u001b[0m         json_data[\u001b[38;5;124m\"\u001b[39m\u001b[38;5;124mnumber_of_enums\u001b[39m\u001b[38;5;124m\"\u001b[39m],\n\u001b[1;32m     35\u001b[0m         json_data[\u001b[38;5;124m\"\u001b[39m\u001b[38;5;124mnumber_of_delegates\u001b[39m\u001b[38;5;124m\"\u001b[39m],\n\u001b[1;32m     36\u001b[0m         json_data[\u001b[38;5;124m\"\u001b[39m\u001b[38;5;124mfunction_calls\u001b[39m\u001b[38;5;124m\"\u001b[39m],\n\u001b[1;32m     37\u001b[0m         json_data[\u001b[38;5;124m\"\u001b[39m\u001b[38;5;124mcontrol_structures_if\u001b[39m\u001b[38;5;124m\"\u001b[39m],\n\u001b[1;32m     38\u001b[0m         json_data[\u001b[38;5;124m\"\u001b[39m\u001b[38;5;124mcontrol_structures_switch\u001b[39m\u001b[38;5;124m\"\u001b[39m],\n\u001b[1;32m     39\u001b[0m         json_data[\u001b[38;5;124m\"\u001b[39m\u001b[38;5;124mcontrol_structures_for\u001b[39m\u001b[38;5;124m\"\u001b[39m],\n\u001b[1;32m     40\u001b[0m         json_data[\u001b[38;5;124m\"\u001b[39m\u001b[38;5;124mcontrol_structures_while\u001b[39m\u001b[38;5;124m\"\u001b[39m],\n\u001b[1;32m     41\u001b[0m         json_data[\u001b[38;5;124m\"\u001b[39m\u001b[38;5;124mcontrol_structures_dowhile\u001b[39m\u001b[38;5;124m\"\u001b[39m],\n\u001b[1;32m     42\u001b[0m         json_data[\u001b[38;5;124m\"\u001b[39m\u001b[38;5;124maccess_modifiers_public\u001b[39m\u001b[38;5;124m\"\u001b[39m],\n\u001b[1;32m     43\u001b[0m         json_data[\u001b[38;5;124m\"\u001b[39m\u001b[38;5;124maccess_modifiers_private\u001b[39m\u001b[38;5;124m\"\u001b[39m],\n\u001b[1;32m     44\u001b[0m         json_data[\u001b[38;5;124m\"\u001b[39m\u001b[38;5;124maccess_modifiers_protected\u001b[39m\u001b[38;5;124m\"\u001b[39m],\n\u001b[1;32m     45\u001b[0m         json_data[\u001b[38;5;124m\"\u001b[39m\u001b[38;5;124maccess_modifiers_internal\u001b[39m\u001b[38;5;124m\"\u001b[39m],\n\u001b[1;32m     46\u001b[0m         json_data[\u001b[38;5;124m\"\u001b[39m\u001b[38;5;124maccess_modifiers_static\u001b[39m\u001b[38;5;124m\"\u001b[39m],\n\u001b[1;32m     47\u001b[0m         json_data[\u001b[38;5;124m\"\u001b[39m\u001b[38;5;124maccess_modifiers_protected_internal\u001b[39m\u001b[38;5;124m\"\u001b[39m],\n\u001b[1;32m     48\u001b[0m         json_data[\u001b[38;5;124m\"\u001b[39m\u001b[38;5;124maccess_modifiers_private_protected\u001b[39m\u001b[38;5;124m\"\u001b[39m],\n\u001b[1;32m     49\u001b[0m         json_data[\u001b[38;5;124m\"\u001b[39m\u001b[38;5;124mmodifier_readonly\u001b[39m\u001b[38;5;124m\"\u001b[39m],\n\u001b[1;32m     50\u001b[0m         json_data[\u001b[38;5;124m\"\u001b[39m\u001b[38;5;124mmodifier_volatile\u001b[39m\u001b[38;5;124m\"\u001b[39m],\n\u001b[1;32m     51\u001b[0m         json_data[\u001b[38;5;124m\"\u001b[39m\u001b[38;5;124mmodifier_virtual\u001b[39m\u001b[38;5;124m\"\u001b[39m],\n\u001b[1;32m     52\u001b[0m         json_data[\u001b[38;5;124m\"\u001b[39m\u001b[38;5;124mmodifier_override\u001b[39m\u001b[38;5;124m\"\u001b[39m],\n\u001b[1;32m     53\u001b[0m         json_data[\u001b[38;5;124m\"\u001b[39m\u001b[38;5;124mmodifier_new\u001b[39m\u001b[38;5;124m\"\u001b[39m],\n\u001b[1;32m     54\u001b[0m         json_data[\u001b[38;5;124m\"\u001b[39m\u001b[38;5;124mmodifier_partial\u001b[39m\u001b[38;5;124m\"\u001b[39m],\n\u001b[1;32m     55\u001b[0m         json_data[\u001b[38;5;124m\"\u001b[39m\u001b[38;5;124mmodifier_extern\u001b[39m\u001b[38;5;124m\"\u001b[39m],\n\u001b[1;32m     56\u001b[0m         json_data[\u001b[38;5;124m\"\u001b[39m\u001b[38;5;124mmodifier_unsafe\u001b[39m\u001b[38;5;124m\"\u001b[39m],\n\u001b[1;32m     57\u001b[0m         json_data[\u001b[38;5;124m\"\u001b[39m\u001b[38;5;124mmodifier_async\u001b[39m\u001b[38;5;124m\"\u001b[39m],\n\u001b[1;32m     58\u001b[0m         json_data[\u001b[38;5;124m\"\u001b[39m\u001b[38;5;124mlinq_querie_select\u001b[39m\u001b[38;5;124m\"\u001b[39m],\n\u001b[1;32m     59\u001b[0m         json_data[\u001b[38;5;124m\"\u001b[39m\u001b[38;5;124mlinq_queries_where\u001b[39m\u001b[38;5;124m\"\u001b[39m],\n\u001b[1;32m     60\u001b[0m         json_data[\u001b[38;5;124m\"\u001b[39m\u001b[38;5;124mlinq_queries_orderBy\u001b[39m\u001b[38;5;124m\"\u001b[39m],\n\u001b[1;32m     61\u001b[0m         json_data[\u001b[38;5;124m\"\u001b[39m\u001b[38;5;124mlinq_queries_groupBy\u001b[39m\u001b[38;5;124m\"\u001b[39m],\n\u001b[1;32m     62\u001b[0m         json_data[\u001b[38;5;124m\"\u001b[39m\u001b[38;5;124mlinq_queries_join\u001b[39m\u001b[38;5;124m\"\u001b[39m],\n\u001b[1;32m     63\u001b[0m         json_data[\u001b[38;5;124m\"\u001b[39m\u001b[38;5;124mlinq_queries_sum\u001b[39m\u001b[38;5;124m\"\u001b[39m],\n\u001b[1;32m     64\u001b[0m         json_data[\u001b[38;5;124m\"\u001b[39m\u001b[38;5;124mlinq_queries_count\u001b[39m\u001b[38;5;124m\"\u001b[39m],\n\u001b[1;32m     65\u001b[0m         json_data[\u001b[38;5;124m\"\u001b[39m\u001b[38;5;124mlibrary_call_console\u001b[39m\u001b[38;5;124m\"\u001b[39m],\n\u001b[1;32m     66\u001b[0m         json_data[\u001b[38;5;124m\"\u001b[39m\u001b[38;5;124mlibrary_call_math\u001b[39m\u001b[38;5;124m\"\u001b[39m],\n\u001b[1;32m     67\u001b[0m         json_data[\u001b[38;5;124m\"\u001b[39m\u001b[38;5;124mnumber_of_lambdas\u001b[39m\u001b[38;5;124m\"\u001b[39m],\n\u001b[1;32m     68\u001b[0m         json_data[\u001b[38;5;124m\"\u001b[39m\u001b[38;5;124mnumber_of_getters\u001b[39m\u001b[38;5;124m\"\u001b[39m],\n\u001b[1;32m     69\u001b[0m         json_data[\u001b[38;5;124m\"\u001b[39m\u001b[38;5;124mnumber_of_setters\u001b[39m\u001b[38;5;124m\"\u001b[39m],\n\u001b[1;32m     70\u001b[0m         json_data[\u001b[38;5;124m\"\u001b[39m\u001b[38;5;124mnumber_of_tuples\u001b[39m\u001b[38;5;124m\"\u001b[39m],\n\u001b[1;32m     71\u001b[0m         json_data[\u001b[38;5;124m\"\u001b[39m\u001b[38;5;124mnumber_of_namespaces\u001b[39m\u001b[38;5;124m\"\u001b[39m],\n\u001b[1;32m     72\u001b[0m         \u001b[38;5;241m*\u001b[39mjson_data[\u001b[38;5;124m\"\u001b[39m\u001b[38;5;124mvariable_names_vector\u001b[39m\u001b[38;5;124m\"\u001b[39m],\n\u001b[1;32m     73\u001b[0m         \u001b[38;5;241m*\u001b[39mjson_data[\u001b[38;5;124m\"\u001b[39m\u001b[38;5;124mmethod_return_types_vector\u001b[39m\u001b[38;5;124m\"\u001b[39m],\n\u001b[1;32m     74\u001b[0m         \u001b[38;5;241m*\u001b[39mjson_data[\u001b[38;5;124m\"\u001b[39m\u001b[38;5;124mmethod_names_vector\u001b[39m\u001b[38;5;124m\"\u001b[39m],\n\u001b[1;32m     75\u001b[0m         \u001b[38;5;241m*\u001b[39mjson_data[\u001b[38;5;124m\"\u001b[39m\u001b[38;5;124mclass_names_vector\u001b[39m\u001b[38;5;124m\"\u001b[39m],\n\u001b[1;32m     76\u001b[0m         \u001b[38;5;241m*\u001b[39mjson_data[\u001b[38;5;124m\"\u001b[39m\u001b[38;5;124mmethod_parameters_vector\u001b[39m\u001b[38;5;124m\"\u001b[39m]\n\u001b[1;32m     77\u001b[0m     ]\n\u001b[1;32m     78\u001b[0m     \u001b[38;5;28;01mreturn\u001b[39;00m np\u001b[38;5;241m.\u001b[39marray(features)\n",
      "\u001b[0;31mTypeError\u001b[0m: Value after * must be an iterable, not float"
     ]
    }
   ],
   "source": [
    "import tensorflow as tf\n",
    "from tensorflow.keras.layers import Input, Dense, Lambda\n",
    "from tensorflow.keras.optimizers import Adam\n",
    "import tensorflow.keras.backend as K\n",
    "from keras.layers import Input, Lambda, Dense, Dropout, Convolution2D, MaxPooling2D, Flatten,Activation\n",
    "from keras.models import Sequential, Model\n",
    "from SNN.siamese_network_parse import PrepareDataSNN\n",
    "\n",
    "# Definir la arquitectura base\n",
    "def create_base_network(input_shape):\n",
    "    # input = Input(shape=input_shape)\n",
    "    # x = Dense(128, activation='relu')(input)\n",
    "    # x = Dense(128, activation='relu')(x)\n",
    "    # x = Dense(128, activation='relu')(x)\n",
    "\n",
    "    model = Sequential()\n",
    "    model.add(Convolution2D(16, (8,8), strides=(1,1),activation=\"relu\", input_shape=input_shape))\n",
    "    model.add(MaxPooling2D(pool_size=(2,2)))\n",
    "    model.add(Convolution2D(32, (4,4),strides=(1,1), activation=\"relu\"))\n",
    "    model.add(Flatten())\n",
    "    model.add(Dense(512, activation=\"relu\"))\n",
    "    model.add(Dense(256, activation=\"relu\"))\n",
    "    model.add(Dense(10,activation='softmax'))\n",
    "    return model\n",
    "    # return Model(input, x)\n",
    "\n",
    "# Definir la función de distancia\n",
    "def euclidean_distance(vects):\n",
    "    x, y = vects\n",
    "    sum_square = K.sum(K.square(x - y), axis=1, keepdims=True)\n",
    "    return K.sqrt(K.maximum(sum_square, K.epsilon()))\n",
    "\n",
    "# Crear el modelo de red siamesa\n",
    "def create_siamese_network(input_shape):\n",
    "    base_network = create_base_network(input_shape)\n",
    "\n",
    "    input_a = Input(shape=input_shape)\n",
    "    input_b = Input(shape=input_shape)\n",
    "\n",
    "    # Obtener las representaciones de las dos ramas\n",
    "    processed_a = base_network(input_a)\n",
    "    processed_b = base_network(input_b)\n",
    "\n",
    "    # Calcular la distancia entre las dos salidas\n",
    "    distance = Lambda(euclidean_distance, output_shape=(1,))([processed_a, processed_b])\n",
    "\n",
    "    model = Model([input_a, input_b], distance)\n",
    "    return model\n",
    "\n",
    "# Definir la función de pérdida\n",
    "def contrastive_loss(y_true, y_pred):\n",
    "    margin = 1\n",
    "    square_pred = K.square(y_pred)\n",
    "    margin_square = K.square(K.maximum(margin - y_pred, 0))\n",
    "    return K.mean(y_true * square_pred + (1 - y_true) * margin_square)\n",
    "\n",
    "# Entrenar el modelo\n",
    "def train_siamese_network(data_a, data_b, labels):\n",
    "    input_shape = (data_a.shape[1],)\n",
    "    model = create_siamese_network(input_shape)\n",
    "\n",
    "    model.compile(loss=contrastive_loss, optimizer=Adam(learning_rate=0.001))\n",
    "\n",
    "    model.fit([data_a, data_b], labels, batch_size=128, epochs=20)\n",
    "\n",
    "# Ejecutar el entrenamiento\n",
    "if __name__ == \"__main__\":\n",
    "    data = PrepareDataSNN()\n",
    "    data_a, data_b, labels = data.process()\n",
    "    train_siamese_network(data_a, data_b, labels)\n"
   ]
  }
 ],
 "metadata": {
  "kernelspec": {
   "display_name": "Python 3",
   "language": "python",
   "name": "python3"
  },
  "language_info": {
   "codemirror_mode": {
    "name": "ipython",
    "version": 3
   },
   "file_extension": ".py",
   "mimetype": "text/x-python",
   "name": "python",
   "nbconvert_exporter": "python",
   "pygments_lexer": "ipython3",
   "version": "3.12.4"
  }
 },
 "nbformat": 4,
 "nbformat_minor": 2
}
